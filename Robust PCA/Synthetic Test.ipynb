{
 "cells": [
  {
   "cell_type": "code",
   "execution_count": 2,
   "metadata": {},
   "outputs": [],
   "source": [
    "\"\"\"\n",
    "Author: John Lipor\n",
    "RPCA demo - syntheticTest\n",
    "python version 3.7.3\n",
    "\"\"\"\n",
    "\n",
    "import numpy as np\n",
    "from numpy.random import randn, rand\n",
    "from numpy.linalg import norm\n",
    "from pcp import pcp"
   ]
  },
  {
   "cell_type": "code",
   "execution_count": 3,
   "metadata": {},
   "outputs": [
    {
     "name": "stdout",
     "output_type": "stream",
     "text": [
      "error in L = 8.091506318291508e-08\n",
      "error in S = 1.7261877902545375e-06\n"
     ]
    }
   ],
   "source": [
    "## problem parameters\n",
    "D = 100\n",
    "N = 500\n",
    "r = 13\n",
    "\n",
    "Ltrue = randn(D, r) @ randn(r, N)       # low - rank matrix\n",
    "Strue = np.float_(rand(D, N) < 0.01)    # sparse matrix\n",
    "Y = Ltrue + Strue\n",
    "\n",
    "[L, S] = pcp(Y)\n",
    "\n",
    "errL = norm(Ltrue - L, ord='fro') / norm(Ltrue, ord='fro')\n",
    "errS = norm(Strue - S, ord='fro') / norm(Strue, ord='fro')\n",
    "\n",
    "print(f\"error in L = {errL}\")\n",
    "print(f\"error in S = {errS}\")"
   ]
  }
 ],
 "metadata": {
  "kernelspec": {
   "display_name": "Python 3",
   "language": "python",
   "name": "python3"
  },
  "language_info": {
   "codemirror_mode": {
    "name": "ipython",
    "version": 3
   },
   "file_extension": ".py",
   "mimetype": "text/x-python",
   "name": "python",
   "nbconvert_exporter": "python",
   "pygments_lexer": "ipython3",
   "version": "3.6.9"
  },
  "varInspector": {
   "cols": {
    "lenName": 16,
    "lenType": 16,
    "lenVar": 40
   },
   "kernels_config": {
    "python": {
     "delete_cmd_postfix": "",
     "delete_cmd_prefix": "del ",
     "library": "var_list.py",
     "varRefreshCmd": "print(var_dic_list())"
    },
    "r": {
     "delete_cmd_postfix": ") ",
     "delete_cmd_prefix": "rm(",
     "library": "var_list.r",
     "varRefreshCmd": "cat(var_dic_list()) "
    }
   },
   "types_to_exclude": [
    "module",
    "function",
    "builtin_function_or_method",
    "instance",
    "_Feature"
   ],
   "window_display": false
  }
 },
 "nbformat": 4,
 "nbformat_minor": 2
}
