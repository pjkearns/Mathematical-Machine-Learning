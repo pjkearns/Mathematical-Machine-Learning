{
 "cells": [
  {
   "cell_type": "code",
   "execution_count": 2,
   "metadata": {},
   "outputs": [],
   "source": [
    "import numpy as np\n",
    "from scipy.linalg import lstsq, pinv, norm\n",
    "from scipy.io import loadmat\n",
    "from scipy.io.wavfile import write\n",
    "from scipy.sparse import csr_matrix\n",
    "from numpy.random import permutation"
   ]
  },
  {
   "cell_type": "markdown",
   "metadata": {},
   "source": [
    "Apply *bpIRLS* and *lassoADMM* functions to recover a highly sub-sampled audio signal, which is an example of compressed sensing (CS). CS relies on two key facts:\n",
    "1. The signal must be sparse in some known basis, i.e., for a signal $s \\in R^{D}$ that we wish to recover, we have that\n",
    "\\begin{equation*}\n",
    "    s = \\sum_{i = 1}^{D} u_{i} x_{i} = Ux\n",
    "\\end{equation*}\n",
    "has $x_{i} \\neq 0$ for $k << D$ values of $i$. This implies that the signal $s$ is **compressible**.\n",
    "2. We sample $s$ by obtaining linear measurements of the form\n",
    "\\begin{equation*}\n",
    "    y_{i} = \\langle a_{i}, s\\rangle \\qquad i = 1,\\dots,N,\n",
    "\\end{equation*}\n",
    "which in matrix form implies\n",
    "\\begin{equation*}\n",
    "    y = As = AUx = Bx,\n",
    "\\end{equation*}\n",
    "where $B = AU \\in R^{N \\times D}$. The above is an underdetermined system for $N < D$, so traditional theory tells us that we cannot recover $x$ unless we take at least $D$ measurements. However, if $x$ has only $k$ nonzero entries, compressed sensing tells us that we only need $N = O(k)$ measurements to recover $x$, and consequently $s$, exactly. It turns out that the way to recover $x$ exactly is to solve a sparse regression problem!\n",
    "\n",
    "In this script, we have the basis $U$ already. Our measurement matrix is designed to sample $p = 456$ random locations of $s$. The size of $s$ is $D = 319,725$.\n",
    "\n",
    "**Goal:** Recover $s$ using standard least-squares regression by minimizing $\\left\\|Bx - y\\right\\|_{2}$."
   ]
  },
  {
   "cell_type": "code",
   "execution_count": 10,
   "metadata": {},
   "outputs": [],
   "source": [
    "import helperFunctions as hf"
   ]
  },
  {
   "cell_type": "code",
   "execution_count": 7,
   "metadata": {},
   "outputs": [
    {
     "name": "stdout",
     "output_type": "stream",
     "text": [
      "0.9988125458894361\n"
     ]
    }
   ],
   "source": [
    "# load basis and true signal\n",
    "data = loadmat(\"pianoBasis\")\n",
    "U = data['pianoBasis']\n",
    "fs = data['fs'][0][0]\n",
    "\n",
    "data = loadmat(\"marySong\")\n",
    "s = data['marySong']\n",
    "D = len(s)\n",
    "\n",
    "# play true signal - listen to the wav file\n",
    "write('marySong.wav', fs, s)\n",
    "\n",
    "# sample s at random locations\n",
    "p = 456                                                 # Number of samples\n",
    "idx = np.sort(np.random.permutation(D)[:p])             # index of samples\n",
    "Rmeas = csr_matrix((np.ones(p), (np.arange(p), idx)), shape=(p,D))   # Measurement matrix\n",
    "\n",
    "# measurement matrix and measurements\n",
    "B = Rmeas @ U.T\n",
    "y = Rmeas @ s\n",
    "xtrue = U @ s\n",
    "\n",
    "## Recover s using l2 minimization\n",
    "xhat = lstsq(B.A,y)[0]\n",
    "s_l2 = U.T @ xhat\n",
    "write('marySong_l2.wav', fs, s_l2)\n",
    "err = norm(xhat - xtrue)/norm(xtrue)\n",
    "print(err)"
   ]
  },
  {
   "cell_type": "markdown",
   "metadata": {},
   "source": [
    "Recovering $s$ using **standard least-squares regression**:\n",
    "\n",
    "minimizing $\\left\\| Bx - y\\right\\|_2$\n",
    "\n",
    "yields what sounds mostly like static, with very little similarity to the original song."
   ]
  },
  {
   "cell_type": "code",
   "execution_count": 11,
   "metadata": {},
   "outputs": [
    {
     "ename": "AttributeError",
     "evalue": "module 'helperFunctions' has no attribute 'BP_irls'",
     "output_type": "error",
     "traceback": [
      "\u001b[0;31m---------------------------------------------------------------------------\u001b[0m",
      "\u001b[0;31mAttributeError\u001b[0m                            Traceback (most recent call last)",
      "\u001b[0;32m<ipython-input-11-a4a6dd7b11e6>\u001b[0m in \u001b[0;36m<module>\u001b[0;34m\u001b[0m\n\u001b[1;32m      1\u001b[0m \u001b[0;31m## Recover s using IRLS\u001b[0m\u001b[0;34m\u001b[0m\u001b[0;34m\u001b[0m\u001b[0;34m\u001b[0m\u001b[0m\n\u001b[1;32m      2\u001b[0m \u001b[0;32mfor\u001b[0m \u001b[0mp\u001b[0m \u001b[0;32min\u001b[0m \u001b[0;34m[\u001b[0m\u001b[0;36m0.01\u001b[0m\u001b[0;34m,\u001b[0m \u001b[0;36m0.1\u001b[0m\u001b[0;34m,\u001b[0m \u001b[0;36m1\u001b[0m\u001b[0;34m]\u001b[0m\u001b[0;34m:\u001b[0m\u001b[0;34m\u001b[0m\u001b[0;34m\u001b[0m\u001b[0m\n\u001b[0;32m----> 3\u001b[0;31m     \u001b[0mxhat\u001b[0m \u001b[0;34m=\u001b[0m \u001b[0mhf\u001b[0m\u001b[0;34m.\u001b[0m\u001b[0mBP_irls\u001b[0m\u001b[0;34m(\u001b[0m\u001b[0mB\u001b[0m\u001b[0;34m.\u001b[0m\u001b[0mA\u001b[0m\u001b[0;34m,\u001b[0m\u001b[0my\u001b[0m\u001b[0;34m,\u001b[0m\u001b[0mp\u001b[0m\u001b[0;34m)\u001b[0m\u001b[0;34m\u001b[0m\u001b[0;34m\u001b[0m\u001b[0m\n\u001b[0m\u001b[1;32m      4\u001b[0m     \u001b[0ms_irls\u001b[0m \u001b[0;34m=\u001b[0m \u001b[0mU\u001b[0m\u001b[0;34m.\u001b[0m\u001b[0mT\u001b[0m \u001b[0;34m@\u001b[0m \u001b[0mxhat\u001b[0m\u001b[0;34m\u001b[0m\u001b[0;34m\u001b[0m\u001b[0m\n\u001b[1;32m      5\u001b[0m     \u001b[0mfileName\u001b[0m \u001b[0;34m=\u001b[0m \u001b[0;34m'marySong_bpIRLS'\u001b[0m\u001b[0;34m+\u001b[0m\u001b[0mstr\u001b[0m\u001b[0;34m(\u001b[0m\u001b[0mp\u001b[0m\u001b[0;34m)\u001b[0m\u001b[0;34m+\u001b[0m\u001b[0;34m'.wav'\u001b[0m\u001b[0;34m\u001b[0m\u001b[0;34m\u001b[0m\u001b[0m\n",
      "\u001b[0;31mAttributeError\u001b[0m: module 'helperFunctions' has no attribute 'BP_irls'"
     ]
    }
   ],
   "source": [
    "## Recover s using IRLS\n",
    "for p in [0.01, 0.1, 1]:\n",
    "    xhat = hf.BP_irls(B.A,y,p)\n",
    "    s_irls = U.T @ xhat\n",
    "    fileName = 'marySong_bpIRLS'+str(p)+'.wav'\n",
    "    write(fileName, fs, s_irls)\n",
    "    err = norm(xhat - xtrue)/norm(xtrue)\n",
    "    print('p = %.2f, err = %.2f'%(p, err))"
   ]
  },
  {
   "cell_type": "markdown",
   "metadata": {},
   "source": [
    "Recovering $s$ using **IRLS for sparse regression**:\n",
    "\n",
    "$\\min_{x \\in R^D} \\left\\|x\\right\\|_{p}$ subject to $Bx = y$\n",
    "\n",
    "gives much better results. With low values of $p$ (0.01, 0.1) there are a few errant notes, but with $p = 1$, the recovered signal sounds almost exactly like the original."
   ]
  },
  {
   "cell_type": "code",
   "execution_count": null,
   "metadata": {},
   "outputs": [],
   "source": [
    "## Recover s using ADMM\n",
    "for lam in [0.01, 0.1, 1]:\n",
    "    xhat = hf.lassoADMM(B.A,y,lam,maxIter=100)\n",
    "    s_admm = U.T @ xhat\n",
    "    fileName = 'marySong_lassoADMM'+str(lam)+'.wav'\n",
    "    write(fileName, fs, s_admm)\n",
    "    err = norm(xhat - xtrue)/norm(xtrue)\n",
    "    print('$\\lambda$ = %.2f, err = %.2f'%(p, err))"
   ]
  },
  {
   "cell_type": "markdown",
   "metadata": {},
   "source": [
    "Recovering $s$ using **LASSO-ADMM**:\n",
    "\n",
    "$\\min_{x \\in R^{D}} \\frac{1}{2} \\left\\|Ax - b\\right\\|_{2}^{2} + \\frac{\\lambda}{2} \\left\\|x\\right\\|_{1}$\n",
    "\n",
    "also yields good results. Low values of $\\lambda \\leq 0.5$ give the best recovery, while larger values have more inaudible or missing notes. "
   ]
  }
 ],
 "metadata": {
  "kernelspec": {
   "display_name": "Python 3",
   "language": "python",
   "name": "python3"
  },
  "language_info": {
   "codemirror_mode": {
    "name": "ipython",
    "version": 3
   },
   "file_extension": ".py",
   "mimetype": "text/x-python",
   "name": "python",
   "nbconvert_exporter": "python",
   "pygments_lexer": "ipython3",
   "version": "3.6.9"
  },
  "varInspector": {
   "cols": {
    "lenName": 16,
    "lenType": 16,
    "lenVar": 40
   },
   "kernels_config": {
    "python": {
     "delete_cmd_postfix": "",
     "delete_cmd_prefix": "del ",
     "library": "var_list.py",
     "varRefreshCmd": "print(var_dic_list())"
    },
    "r": {
     "delete_cmd_postfix": ") ",
     "delete_cmd_prefix": "rm(",
     "library": "var_list.r",
     "varRefreshCmd": "cat(var_dic_list()) "
    }
   },
   "types_to_exclude": [
    "module",
    "function",
    "builtin_function_or_method",
    "instance",
    "_Feature"
   ],
   "window_display": false
  }
 },
 "nbformat": 4,
 "nbformat_minor": 2
}
