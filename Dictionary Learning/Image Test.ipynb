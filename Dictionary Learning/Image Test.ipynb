{
 "cells": [
  {
   "cell_type": "code",
   "execution_count": null,
   "metadata": {},
   "outputs": [],
   "source": [
    "%% Load data\n",
    "cat = imread('IMG_5089.JPG');\n",
    "cat_grey = rgb2gray(cat);\n",
    "\n",
    "flower = imread('IMG_4096.JPG');\n",
    "flower_grey = rgb2gray(flower);\n",
    "\n",
    "err_cat = zeros(size(cat_grey,1)/65,size(cat_grey,2)/64);\n",
    "\n",
    "%% process image with noise\n",
    "[cat_block, cat_noise] = ImgBlockPartition(cat_grey,65,64,0.5);\n",
    "[M,N,P] = size(cat_block);\n",
    "cat_noise = reshape(cat_noise,M,N*P);\n",
    "cat_block = reshape(cat_block,M,N*P);\n",
    "\n",
    "[D,Xh] = kSVD(cat_noise,300,20); % M, and K to be determined\n",
    "cat_hat = D*Xh;\n",
    "for kk = 1:size(Xh,2)\n",
    "    err_cat = sqrt(vnorm(cat_block(:,kk)-cat_hat(:,kk),'fro').^2./(65*64));\n",
    "end\n",
    "\n",
    "cat_reconstruct = reshape(cat_hat(:),size(cat_grey));\n",
    "figure(1)\n",
    "imshow(cat_reconstruct)\n",
    "\n",
    "\n",
    "%% function\n",
    "function [img_block,noise_block] = ImgBlockPartition(img,row,col,noise)\n",
    "% partition the pixels into blocks\n",
    "% syntax img_block = ImgBlockPartition(img,row,col)\n",
    "% INPUT : img         - image in grey scale\n",
    "%         row         - size of row of the image block\n",
    "%         col         - size of column of the image block\n",
    "%         noise       - noise level, from 0.1 to 0.9\n",
    "% OUTPUT: img_block   - block output of the image block matrix \n",
    "%                     (row x col x [num blocks in row] x [num blocks in col])\n",
    "%         noise_block - block output of the image block matrix with noise\n",
    "%                     (row x col x [num blocks in row] x [num blocks in col])\n",
    "[M,N] = size(img);\n",
    "img_block = zeros(row*col,M/row,N/col);\n",
    "noise_block = zeros(row*col,M/row,N/col);\n",
    "for ii = 1:M/row\n",
    "    tempseg = img((ii*row-(row-1)):ii*row,:);\n",
    "    for jj = 1:N/col\n",
    "        tempblock= tempseg(:,(jj*col-(col-1)):jj*col);\n",
    "        img_block(:,ii,jj)= tempblock(:);\n",
    "        noise_block(:,ii,jj) = tempblock(:);\n",
    "        randind = sort(randperm(row*col,round(row*col*noise)));\n",
    "        %[I,J] = ind2sub([row,col],randind);\n",
    "        noise_block(randind,ii,jj) = 0;\n",
    "    end\n",
    "end\n",
    "%img_block = reshape(img_block,row*col,(M/row)*(N/col));\n",
    "end\n",
    "\n",
    "\n"
   ]
  }
 ],
 "metadata": {
  "kernelspec": {
   "display_name": "Python 3",
   "language": "python",
   "name": "python3"
  },
  "language_info": {
   "codemirror_mode": {
    "name": "ipython",
    "version": 3
   },
   "file_extension": ".py",
   "mimetype": "text/x-python",
   "name": "python",
   "nbconvert_exporter": "python",
   "pygments_lexer": "ipython3",
   "version": "3.7.3"
  },
  "varInspector": {
   "cols": {
    "lenName": 16,
    "lenType": 16,
    "lenVar": 40
   },
   "kernels_config": {
    "python": {
     "delete_cmd_postfix": "",
     "delete_cmd_prefix": "del ",
     "library": "var_list.py",
     "varRefreshCmd": "print(var_dic_list())"
    },
    "r": {
     "delete_cmd_postfix": ") ",
     "delete_cmd_prefix": "rm(",
     "library": "var_list.r",
     "varRefreshCmd": "cat(var_dic_list()) "
    }
   },
   "types_to_exclude": [
    "module",
    "function",
    "builtin_function_or_method",
    "instance",
    "_Feature"
   ],
   "window_display": false
  }
 },
 "nbformat": 4,
 "nbformat_minor": 2
}
