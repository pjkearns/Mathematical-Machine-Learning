{
 "cells": [
  {
   "cell_type": "code",
   "execution_count": 1,
   "metadata": {},
   "outputs": [
    {
     "data": {
      "text/html": [
       "<style>.container { width:100% !important; }</style>"
      ],
      "text/plain": [
       "<IPython.core.display.HTML object>"
      ]
     },
     "metadata": {},
     "output_type": "display_data"
    }
   ],
   "source": [
    "from IPython.core.display import display, HTML\n",
    "display(HTML(\"<style>.container { width:100% !important; }</style>\"))"
   ]
  },
  {
   "cell_type": "code",
   "execution_count": 2,
   "metadata": {},
   "outputs": [],
   "source": [
    "import numpy as np\n",
    "import matplotlib.pyplot as plt\n",
    "from scipy.sparse.linalg import svds\n",
    "from sklearn.preprocessing import normalize\n",
    "from numpy.random import choice, rand, randn, permutation\n",
    "\n",
    "import helperFunctions as hf"
   ]
  },
  {
   "cell_type": "code",
   "execution_count": 11,
   "metadata": {},
   "outputs": [
    {
     "name": "stdout",
     "output_type": "stream",
     "text": [
      "Signal 4/4, \tTrial 5/5"
     ]
    }
   ],
   "source": [
    "# % Follow the synthethic test procedure as outlined in the paper\n",
    "# % \"K-SVD: An Algorithm for Designing Overcomplete Dictionaries for \n",
    "# % Sparse Representation.\" IEEE Trans. on Sig. Proc., Vol. 54, No. 11, 2006.\n",
    "\n",
    "# TEST 1: RECOVERY VS. DATA SIZE\n",
    "numSignalsRange = [250, 500, 1000, 2000]\n",
    "dimSignal = 20\n",
    "numAtoms  = 50\n",
    "numTrials = 5\n",
    "K         = 3   # sparsity level\n",
    "sigma     = 0.2 # modify for noise level\n",
    "\n",
    "countMat  = np.zeros((len(numSignalsRange),numTrials))\n",
    "\n",
    "for nS, numSignals in enumerate(numSignalsRange):\n",
    "    for nT in range(numTrials):\n",
    "        print('\\rSignal {}/{}, \\tTrial {}/{}'.format(nS+1,len(numSignalsRange),nT+1, numTrials), end=\"\")        \n",
    "\n",
    "        # % generate random matrix D (the dictionary K-SVD will reconstruct)\n",
    "        D = randn(dimSignal,numAtoms)\n",
    "        D = normalize(D,norm='l2',axis=0)\n",
    "\n",
    "        # % generate numSignals of size dimSignal created by linear combination of\n",
    "        # % 3 dictionary atoms, w/ uniformly distributed i.i.d coefficients and added WGN\n",
    "\n",
    "        Y = np.zeros((dimSignal,numSignals))\n",
    "        for k in range(numSignals):\n",
    "            rInds = choice(numAtoms, K) # 3 random dictionary atoms\n",
    "            Y[:, k] = D[:,rInds] @ (5*rand(K)) + sigma*randn(dimSignal)\n",
    "\n",
    "        # % dictionary learning via K-SVD!\n",
    "        Dhat, Xhat = hf.kSVD(Y,numAtoms,K)\n",
    "\n",
    "        # % compare generated to true dictionary, check if recovering true atoms\n",
    "        count = 0\n",
    "        for k in range(numAtoms):\n",
    "            for j in range(numAtoms):\n",
    "                if (1-np.abs(Dhat[:,k].T @ D[:,j]) < 0.01):\n",
    "                    count = count + 1\n",
    "\n",
    "        countMat[nS, nT] = count"
   ]
  },
  {
   "cell_type": "code",
   "execution_count": 12,
   "metadata": {},
   "outputs": [
    {
     "data": {
      "image/png": "[encoded data removed]",
      "text/plain": [
       "<Figure size 432x288 with 1 Axes>"
      ]
     },
     "metadata": {
      "needs_background": "light"
     },
     "output_type": "display_data"
    }
   ],
   "source": [
    "ind_mat = np.repeat(np.array(numSignalsRange).reshape(1,-1), numTrials, axis=0)\n",
    "colors = ['r','b','m','g']\n",
    "for ii in range(4):\n",
    "    plt.scatter(ind_mat[:,ii], countMat[ii,:], marker='s', color=colors[ii]);\n",
    "\n",
    "plt.xlabel('Number of Signals')\n",
    "plt.ylabel('Atoms Recovered')\n",
    "plt.title('Recovery vs. Data Size');"
   ]
  },
  {
   "cell_type": "code",
   "execution_count": 19,
   "metadata": {},
   "outputs": [
    {
     "name": "stdout",
     "output_type": "stream",
     "text": [
      "Signal 4/4, \tTrial 5/5"
     ]
    }
   ],
   "source": [
    "# TEST 2: RECOVERY VS. NOISE LEVEL\n",
    "sigmaRange = [0.0, 0.125, 0.25, 0.5]\n",
    "numSignals = 1000\n",
    "sigmaMat = np.zeros((len(sigmaRange),numTrials))\n",
    "\n",
    "for nS, sigma in enumerate(sigmaRange):\n",
    "    for nT in range(numTrials):\n",
    "        print('\\rSignal {}/{}, \\tTrial {}/{}'.format(nS+1,len(numSignalsRange),nT+1, numTrials), end=\"\")        \n",
    "         \n",
    "        # % generate random matrix D (the dictionary K-SVD will reconstruct)\n",
    "        D = randn(dimSignal,numAtoms)\n",
    "        D = normalize(D,norm='l2',axis=0)\n",
    "\n",
    "        # % generate numSignals of size dimSignal created by linear combination of\n",
    "        # % 3 dictionary atoms, w/ uniformly distributed i.i.d coefficients and added WGN\n",
    "        Y = np.zeros((dimSignal,numSignals))\n",
    "        for k in range(numSignals):\n",
    "            rInds = choice(numAtoms, K) # 3 random dictionary atoms\n",
    "            Y[:, k] = D[:,rInds] @ (5*rand(K)) + sigma*randn(dimSignal)\n",
    "\n",
    "        # % dictionary learning via K-SVD!\n",
    "        Dhat, Xhat = hf.kSVD(Y,numAtoms,K)\n",
    "\n",
    "        # % compare generated to true dictionary, check if recovering true atoms\n",
    "        count = 0\n",
    "        for k in range(numAtoms):\n",
    "            for j in range(numAtoms):\n",
    "                if (1-np.abs(Dhat[:,k].T @ D[:,j]) < 0.01):\n",
    "                    count = count + 1\n",
    "\n",
    "        sigmaMat[nS, nT] = count"
   ]
  },
  {
   "cell_type": "code",
   "execution_count": 20,
   "metadata": {},
   "outputs": [
    {
     "data": {
      "image/png": "[encoded data removed]",
      "text/plain": [
       "<Figure size 432x288 with 1 Axes>"
      ]
     },
     "metadata": {
      "needs_background": "light"
     },
     "output_type": "display_data"
    }
   ],
   "source": [
    "ind_mat = np.repeat(np.array(sigmaRange).reshape(1,-1), numTrials, axis=0)\n",
    "colors = ['r','b','m','g']\n",
    "for ii in range(4):\n",
    "    plt.scatter(ind_mat[:,ii], sigmaMat[ii,:], marker='s', color=colors[ii]);\n",
    "\n",
    "plt.xlabel('Noise Level')\n",
    "plt.ylabel('Atoms Recovered')\n",
    "plt.title('Recovery vs. Noise Level');"
   ]
  }
 ],
 "metadata": {
  "kernelspec": {
   "display_name": "Python 3",
   "language": "python",
   "name": "python3"
  },
  "language_info": {
   "codemirror_mode": {
    "name": "ipython",
    "version": 3
   },
   "file_extension": ".py",
   "mimetype": "text/x-python",
   "name": "python",
   "nbconvert_exporter": "python",
   "pygments_lexer": "ipython3",
   "version": "3.7.3"
  },
  "varInspector": {
   "cols": {
    "lenName": 16,
    "lenType": 16,
    "lenVar": 40
   },
   "kernels_config": {
    "python": {
     "delete_cmd_postfix": "",
     "delete_cmd_prefix": "del ",
     "library": "var_list.py",
     "varRefreshCmd": "print(var_dic_list())"
    },
    "r": {
     "delete_cmd_postfix": ") ",
     "delete_cmd_prefix": "rm(",
     "library": "var_list.r",
     "varRefreshCmd": "cat(var_dic_list()) "
    }
   },
   "oldHeight": 632.35,
   "position": {
    "height": "40px",
    "left": "344px",
    "right": "20px",
    "top": "183px",
    "width": "800px"
   },
   "types_to_exclude": [
    "module",
    "function",
    "builtin_function_or_method",
    "instance",
    "_Feature"
   ],
   "varInspector_section_display": "none",
   "window_display": false
  }
 },
 "nbformat": 4,
 "nbformat_minor": 2
}
