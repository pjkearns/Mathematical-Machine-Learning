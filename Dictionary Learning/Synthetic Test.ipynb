{
 "cells": [
  {
   "cell_type": "code",
   "execution_count": 6,
   "metadata": {},
   "outputs": [],
   "source": [
    "import numpy as np\n",
    "from numpy.random import randn, permutation\n",
    "import helperFunctions as hf "
   ]
  },
  {
   "cell_type": "code",
   "execution_count": null,
   "metadata": {},
   "outputs": [],
   "source": [
    "# % Follow the synthethic test procedure as outlined in the paper\n",
    "# % \"K-SVD: An Algorithm for Designing Overcomplete Dictionaries for \n",
    "# % Sparse Representation.\" IEEE Trans. on Sig. Proc., Vol. 54, No. 11, 2006.\n",
    "\n",
    "numSignals = 1500\n",
    "dimSignal = 20\n",
    "numAtoms = 50\n",
    "\n",
    "# % generate random matrix D (the dictionary K-SVD will reconstruct)\n",
    "D = randn(dimSignal,numAtoms)\n",
    "D = D/(np.sum(np.abs(D)**2,axis=0))**(1/2)\n",
    "\n",
    "# % generate numSignals of size dimSignal created by linear combination of\n",
    "# % 3 different dictionary atoms, with uniformly distributed i.i.d \n",
    "# % coefficients and added WGN\n",
    "\n",
    "sigma = 1 # modify for noise level\n",
    "Y = np.zeros((dimSignal,numSignals))\n",
    "for k in range(numSignals):\n",
    "    Y[:, k] = np.sum(D(:,randsample(numAtoms,3))*(5*rand(3,1)),2); + sigma*randn(dimSignal,1);\n",
    "\n",
    "\n",
    "# % dictionary learning via K-SVD!\n",
    "[Dhat,Xhat] = K-SVD(Y,numAtoms,3);\n",
    "\n",
    "# % compare generated dictionary to true dictionary. \n",
    "# % check if recovering true atoms\n",
    "\n",
    "count = 0\n",
    "for k in range(numAtoms):\n",
    "#     Dhat = Dhat./power(sum(power(abs(Dhat),2),1),1/2);\n",
    "    for j = 1:numAtoms\n",
    "        if (1-abs(Dhat(:,k).'*D(:,j)) < 0.01)\n",
    "            count = count + 1;\n",
    "\n",
    "count"
   ]
  },
  {
   "cell_type": "code",
   "execution_count": null,
   "metadata": {},
   "outputs": [],
   "source": [
    "ind_mat = [250*ones(10,1) 500*ones(10,1) 1000*ones(10,1) 2000*ones(10,1)];\n",
    "figure()\n",
    "hold on\n",
    "colour = {'r','b','m','g'};\n",
    "for ii = 1:4\n",
    "plot(ind_mat(:,ii),count_mat(:,ii), 's', 'MarkerFaceColor', colour{ii},'MarkerEdgeColor', colour{ii});\n",
    "end\n",
    "\n",
    "xlabel 'Number of Signals'\n",
    "ylabel 'Atoms Recovered'\n",
    "title 'Recovery vs. Data Size'"
   ]
  }
 ],
 "metadata": {
  "kernelspec": {
   "display_name": "Python 3",
   "language": "python",
   "name": "python3"
  },
  "language_info": {
   "codemirror_mode": {
    "name": "ipython",
    "version": 3
   },
   "file_extension": ".py",
   "mimetype": "text/x-python",
   "name": "python",
   "nbconvert_exporter": "python",
   "pygments_lexer": "ipython3",
   "version": "3.7.3"
  },
  "varInspector": {
   "cols": {
    "lenName": 16,
    "lenType": 16,
    "lenVar": 40
   },
   "kernels_config": {
    "python": {
     "delete_cmd_postfix": "",
     "delete_cmd_prefix": "del ",
     "library": "var_list.py",
     "varRefreshCmd": "print(var_dic_list())"
    },
    "r": {
     "delete_cmd_postfix": ") ",
     "delete_cmd_prefix": "rm(",
     "library": "var_list.r",
     "varRefreshCmd": "cat(var_dic_list()) "
    }
   },
   "types_to_exclude": [
    "module",
    "function",
    "builtin_function_or_method",
    "instance",
    "_Feature"
   ],
   "window_display": false
  }
 },
 "nbformat": 4,
 "nbformat_minor": 2
}
