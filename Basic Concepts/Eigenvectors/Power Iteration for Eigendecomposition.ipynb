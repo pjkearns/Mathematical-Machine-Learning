{
 "cells": [
  {
   "cell_type": "code",
   "execution_count": 1,
   "metadata": {},
   "outputs": [],
   "source": [
    "import numpy as np\n",
    "from scipy.linalg import norm, eig\n",
    "from numpy.random import rand, randn\n",
    "import matplotlib.pyplot as plt\n",
    "import time"
   ]
  },
  {
   "cell_type": "markdown",
   "metadata": {},
   "source": [
    "### Computational requirements of computing eigenvectors:###\n",
    "**For large matrices, computing eigenvectors can be computationally prohibitive. The power iteration method allows for efficient computation of only the top few eigenvectors instead of the full decomposition.**"
   ]
  },
  {
   "cell_type": "code",
   "execution_count": 13,
   "metadata": {},
   "outputs": [],
   "source": [
    "nRange = [10, 50, 100, 500, 1000, 2000]\n",
    "\n",
    "# Compare the runtime of each eigendecomposition method\n",
    "\n",
    "data = np.zeros((len(nRange),3))\n",
    "for nn, n in enumerate(nRange):\n",
    "    A = randn(n,1)\n",
    "    A = A @ A.T\n",
    "    x = randn(n,1) # initial vector\n",
    "    K = 100        # number of iterations to run\n",
    "\n",
    "#   power iteration method (v1)\n",
    "    t = time.time()\n",
    "    x_k1 = ((A**K)@x)/norm((A**K)@x)\n",
    "    data[nn,0] = time.time() - t\n",
    "    \n",
    "#   power iteration method (v2) - RECURSION\n",
    "    x_k2 = x\n",
    "    t = time.time()\n",
    "    for kk in range(K):\n",
    "        x_k2 = (A@x_k2)/norm(A@x_k2) \n",
    "    data[nn,1] = time.time() - t\n",
    "    \n",
    "#   eigendecomp\n",
    "    t = time.time()\n",
    "    w1, v1 = eig(A)\n",
    "    data[nn,2] = time.time() - t   "
   ]
  },
  {
   "cell_type": "code",
   "execution_count": 17,
   "metadata": {},
   "outputs": [
    {
     "data": {
      "image/png": "[encoded data removed]",
      "text/plain": [
       "<Figure size 432x288 with 1 Axes>"
      ]
     },
     "metadata": {
      "needs_background": "light"
     },
     "output_type": "display_data"
    }
   ],
   "source": [
    "# Plot time of each method vs. problem size\n",
    "plt.plot(nRange,data)\n",
    "plt.xlabel('problem size')\n",
    "plt.ylabel('time (s)')\n",
    "plt.legend(('Power Iteration v1','Power Iteration v2','Eigendecomp'));"
   ]
  }
 ],
 "metadata": {
  "kernelspec": {
   "display_name": "Python 3",
   "language": "python",
   "name": "python3"
  },
  "language_info": {
   "codemirror_mode": {
    "name": "ipython",
    "version": 3
   },
   "file_extension": ".py",
   "mimetype": "text/x-python",
   "name": "python",
   "nbconvert_exporter": "python",
   "pygments_lexer": "ipython3",
   "version": "3.6.9"
  },
  "varInspector": {
   "cols": {
    "lenName": 16,
    "lenType": 16,
    "lenVar": 40
   },
   "kernels_config": {
    "python": {
     "delete_cmd_postfix": "",
     "delete_cmd_prefix": "del ",
     "library": "var_list.py",
     "varRefreshCmd": "print(var_dic_list())"
    },
    "r": {
     "delete_cmd_postfix": ") ",
     "delete_cmd_prefix": "rm(",
     "library": "var_list.r",
     "varRefreshCmd": "cat(var_dic_list()) "
    }
   },
   "position": {
    "height": "592.85px",
    "left": "540px",
    "right": "20px",
    "top": "135px",
    "width": "350px"
   },
   "types_to_exclude": [
    "module",
    "function",
    "builtin_function_or_method",
    "instance",
    "_Feature"
   ],
   "window_display": false
  }
 },
 "nbformat": 4,
 "nbformat_minor": 2
}
